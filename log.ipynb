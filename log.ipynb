{
 "cells": [
  {
   "cell_type": "code",
   "execution_count": 45,
   "metadata": {},
   "outputs": [],
   "source": [
    "import re\n",
    "import os, sys, shutil, glob"
   ]
  },
  {
   "cell_type": "code",
   "execution_count": 46,
   "metadata": {},
   "outputs": [],
   "source": [
    "with open(\"log\", \"r\") as l:\n",
    "    logs = l.readlines()"
   ]
  },
  {
   "cell_type": "code",
   "execution_count": 48,
   "metadata": {},
   "outputs": [
    {
     "name": "stdout",
     "output_type": "stream",
     "text": [
      "36\n"
     ]
    }
   ],
   "source": [
    "log_warnings = [l for l in logs if \"WARNING\" in l]\n",
    "print(len(log_warnings))"
   ]
  },
  {
   "cell_type": "code",
   "execution_count": 36,
   "metadata": {},
   "outputs": [],
   "source": [
    "# print(\"\\n\".join(log_warnings[5:10]))"
   ]
  },
  {
   "cell_type": "code",
   "execution_count": 49,
   "metadata": {},
   "outputs": [],
   "source": [
    "pattern = \".*contains a link to '?(.*png|.*jpg|.*jpeg|.*PNG|.*JPG|.*JPEG)'?\"\n",
    "# regex = re.compile(pattern)\n",
    "# match = regex.match(log_warnings[5])"
   ]
  },
  {
   "cell_type": "code",
   "execution_count": 50,
   "metadata": {},
   "outputs": [],
   "source": [
    "# match.group(1)"
   ]
  },
  {
   "cell_type": "code",
   "execution_count": 51,
   "metadata": {},
   "outputs": [],
   "source": [
    "def find_images(log):\n",
    "    regex = re.compile(pattern)\n",
    "    match = regex.match(log)\n",
    "    if match:\n",
    "        return match.group(1)\n",
    "    else:\n",
    "        return None"
   ]
  },
  {
   "cell_type": "code",
   "execution_count": 52,
   "metadata": {},
   "outputs": [
    {
     "name": "stdout",
     "output_type": "stream",
     "text": [
      "29\n"
     ]
    }
   ],
   "source": [
    "images = [find_images(l) for l in log_warnings if find_images(l)]\n",
    "images = list(set(images))\n",
    "print(len(images))"
   ]
  },
  {
   "cell_type": "code",
   "execution_count": 54,
   "metadata": {},
   "outputs": [],
   "source": [
    "new_base_dir = './all_notebooks'\n",
    "if not os.path.exists(new_base_dir):\n",
    "    os.makedirs(new_base_dir)\n",
    "\n",
    "for file in images:\n",
    "    new_file = os.path.join(new_base_dir, file)\n",
    "    new_dir = os.path.dirname(new_file)\n",
    "    if not os.path.exists(new_dir):\n",
    "        os.makedirs(new_dir)\n",
    "    shutil.copyfile(file, new_file)"
   ]
  },
  {
   "cell_type": "code",
   "execution_count": 55,
   "metadata": {},
   "outputs": [
    {
     "data": {
      "text/plain": [
       "['MLS/C1/W1/Notes/images/01_03.png',\n",
       " 'GAN/C1/W1/Assignments/lrelu-graph.png',\n",
       " 'GAN/C1/W2/Assignments/MNIST_DCGAN_Progression.png',\n",
       " 'GAN/C2/W3/Labs/noise_contributions.png',\n",
       " 'GAN/C2/W3/Labs/BigGAN-truncation-trick.png',\n",
       " 'GAN/C1/W2/Assignments/dcgan-gen.png',\n",
       " 'GAN/C2/W2/Labs/vae_sampling.png',\n",
       " 'MLS/C1/W2/Assignments/images/C1_W2_Lab07_FeatureEngLecture.PNG',\n",
       " 'GAN/C1/W3/Assignments/MNIST_WGAN_Progression.png',\n",
       " 'GAN/C3/W3/Assignments/Cycle_Consistency_Loss.png',\n",
       " 'MLS/C1/W1/Notes/images/01_04.png',\n",
       " 'GAN/C3/W3/Assignments/CycleGAN_Generator.png',\n",
       " 'GAN/C3/W2/Assignments/pix2pix_ex.png',\n",
       " 'GAN/C1/W1/Assignments/relu-graph.png',\n",
       " 'GAN/C1/W4/Assignments/celeba.png',\n",
       " 'GAN/C3/W2/Assignments/Neuraldatasetexample.png',\n",
       " 'MLS/C1/W1/Notes/images/01_02.png',\n",
       " 'GAN/C2/W3/Labs/droplet_artifact.png',\n",
       " 'GAN/C3/W3/Assignments/Identity_Loss.png',\n",
       " 'GAN/C2/W2/Labs/vae_architecture.png',\n",
       " 'GAN/C3/W1/Assignments/CIFAR.png',\n",
       " 'GAN/C2/W3/Labs/stylegan_architectures.png',\n",
       " 'GAN/C2/W3/Labs/BigGAN.png',\n",
       " 'GAN/C2/W1/Labs/perceptual_similarity_fig.jpg',\n",
       " 'GAN/C3/W3/Assignments/residual_block.png',\n",
       " 'MLS/C1/W1/Notes/images/01_01.jpg',\n",
       " 'GAN/C2/W3/Labs/gaugan_in.png',\n",
       " 'GAN/C1/W1/Assignments/MnistExamples.png',\n",
       " 'MLS/C1/W1/Notes/images/02_01.png']"
      ]
     },
     "execution_count": 55,
     "metadata": {},
     "output_type": "execute_result"
    }
   ],
   "source": [
    "images"
   ]
  }
 ],
 "metadata": {
  "kernelspec": {
   "display_name": "data-science",
   "language": "python",
   "name": "python3"
  },
  "language_info": {
   "codemirror_mode": {
    "name": "ipython",
    "version": 3
   },
   "file_extension": ".py",
   "mimetype": "text/x-python",
   "name": "python",
   "nbconvert_exporter": "python",
   "pygments_lexer": "ipython3",
   "version": "3.9.15"
  },
  "orig_nbformat": 4
 },
 "nbformat": 4,
 "nbformat_minor": 2
}
